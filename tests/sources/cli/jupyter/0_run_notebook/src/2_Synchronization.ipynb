{
 "cells": [
  {
   "cell_type": "code",
   "execution_count": null,
   "metadata": {},
   "outputs": [],
   "source": [
    "import pycompss.interactive as ipycompss\n",
    "\n",
    "import os\n",
    "if 'BINDER_SERVICE_HOST' in os.environ:\n",
    "    ipycompss.start(graph=True, debug=False,\n",
    "                    project_xml='../xml/project.xml',\n",
    "                    resources_xml='../xml/resources.xml')\n",
    "else:\n",
    "    ipycompss.start(graph=True, monitor=1000, trace=False)\n",
    "    \n",
    "    \n",
    "from pycompss.api.task import task\n",
    "from pycompss.api.parameter import *\n",
    "from pycompss.api.api import compss_wait_on\n",
    "\n",
    "\n",
    "@task(returns=int)\n",
    "def square(val1):\n",
    "    return val1 * val1\n",
    "\n",
    "@task(returns=int)\n",
    "def add(val2, val3):\n",
    "    return val2 + val3\n",
    "\n",
    "@task(returns=int)\n",
    "def multiply(val1, val2):\n",
    "    return val1 * val2\n",
    "\n",
    "a = square(2)\n",
    "b = add(a, 4)\n",
    "c = multiply (b, 5)\n",
    "\n",
    "c = compss_wait_on(c)\n",
    "c = c + 1\n",
    "print(\"a: %s\" % a)\n",
    "print(\"b: %s\" % b)\n",
    "print(\"c: %d\" % c)\n",
    "a = compss_wait_on(a)\n",
    "print(\"a: %d\" % a)\n",
    "\n",
    "ipycompss.stop(sync=True)\n",
    "\n",
    "print(\"Results after stopping PyCOMPSs: \")\n",
    "print(\"a: %d\" % a)\n",
    "print(\"b: %d\" % b)\n",
    "print(\"c: %d\" % c)"
   ]
  },
  {
   "cell_type": "code",
   "execution_count": null,
   "metadata": {},
   "outputs": [],
   "source": []
  }
 ],
 "metadata": {
  "kernelspec": {
   "display_name": "Python 3",
   "language": "python",
   "name": "python3"
  },
  "language_info": {
   "codemirror_mode": {
    "name": "ipython",
    "version": 3
   },
   "file_extension": ".py",
   "mimetype": "text/x-python",
   "name": "python",
   "nbconvert_exporter": "python",
   "pygments_lexer": "ipython3",
   "version": "3.6.13"
  },
  "livereveal": {
   "auto_select": "code",
   "overlay": "<div class='myheader'><img height='100' align='right' src='http://www.bsc.es/actris/sites/default/files/logos/BSC-logo%201.jpg'></div>",
   "scroll": true,
   "theme": "simple",
   "transition": "slide"
  }
 },
 "nbformat": 4,
 "nbformat_minor": 2
}
